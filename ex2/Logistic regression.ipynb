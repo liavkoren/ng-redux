{
 "cells": [
  {
   "cell_type": "code",
   "execution_count": null,
   "metadata": {
    "collapsed": true
   },
   "outputs": [],
   "source": []
  },
  {
   "cell_type": "code",
   "execution_count": 31,
   "metadata": {
    "collapsed": false
   },
   "outputs": [],
   "source": [
    "%matplotlib inline\n",
    "import matplotlib.pyplot as plt\n",
    "import numpy as np\n",
    "from scipy.optimize import minimize\n",
    "\n",
    "# Load, scale and normalize the data:\n",
    "data = np.loadtxt('ex2data1.txt', delimiter=',')\n",
    "X_initial = data.copy()\n",
    "X_initial = X_initial[:, 0:2]\n",
    "X_initial[:, 0] -= X_initial[:, 0].mean()\n",
    "X_initial[:, 0] /= X_initial[:, 0].std()\n",
    "X_initial[:, 1] -= X_initial[:, 1].mean()\n",
    "X_initial[:, 1] /= X_initial[:, 1].std()\n",
    "y = data[:, 2]"
   ]
  },
  {
   "cell_type": "markdown",
   "metadata": {},
   "source": [
    "# Feature scaling and regularizing doesn't change the way the data \"looks\":\n",
    "\n",
    "## Unscaled:"
   ]
  },
  {
   "cell_type": "code",
   "execution_count": 35,
   "metadata": {
    "collapsed": false
   },
   "outputs": [
    {
     "data": {
      "text/plain": [
       "[<matplotlib.lines.Line2D at 0x113686b50>]"
      ]
     },
     "execution_count": 35,
     "metadata": {},
     "output_type": "execute_result"
    },
    {
     "data": {
      "image/png": "[encoded data removed]",
      "text/plain": [
       "<matplotlib.figure.Figure at 0x11312a6d0>"
      ]
     },
     "metadata": {},
     "output_type": "display_data"
    }
   ],
   "source": [
    "positive = data[data[:, 2] == 1, :]\n",
    "plt.plot(positive[:, 0], positive[:, 1], 'yo')\n",
    "negative = data[data[:, 2] == 0, :]\n",
    "plt.plot(negative[:, 0], negative[:, 1], 'rs')"
   ]
  },
  {
   "cell_type": "markdown",
   "metadata": {},
   "source": [
    "## Scaled: "
   ]
  },
  {
   "cell_type": "code",
   "execution_count": 37,
   "metadata": {
    "collapsed": false
   },
   "outputs": [
    {
     "data": {
      "text/plain": [
       "[<matplotlib.lines.Line2D at 0x11389eb50>]"
      ]
     },
     "execution_count": 37,
     "metadata": {},
     "output_type": "execute_result"
    },
    {
     "data": {
      "image/png": "[encoded data removed]",
      "text/plain": [
       "<matplotlib.figure.Figure at 0x11334ff10>"
      ]
     },
     "metadata": {},
     "output_type": "display_data"
    }
   ],
   "source": [
    "positive = X_initial[y == 1, :]\n",
    "plt.plot(positive[:, 0], positive[:, 1], 'yo')\n",
    "negative = X_initial[y == 0, :]\n",
    "plt.plot(negative[:, 0], negative[:, 1], 'rs')"
   ]
  },
  {
   "cell_type": "code",
   "execution_count": null,
   "metadata": {
    "collapsed": true
   },
   "outputs": [],
   "source": [
    "def sigmoid(z):\n",
    "    return 1/(1 + np.power(np.e, -z))\n",
    "\n",
    "h = lambda theta, x: sigmoid(x.dot(theta))\n",
    "\n",
    "\n",
    "def cost(theta, X, y, debug=False):\n",
    "    m = X.shape[0]\n",
    "    if debug:\n",
    "        print 'theta: %s' % theta\n",
    "        print '--'\n",
    "        print 'X: %s' % X\n",
    "        print '--'\n",
    "        print 'y=1: %s  y=0: %s' % ((h(theta, X)), 1 - h(theta, X))\n",
    "        print 'log probabilities: \\ny=1: %s' % np.log(h(theta, X))\n",
    "        print 'y=0: %s' %  np.log(1 - h(theta, X))\n",
    "        print '=======\\n'\n",
    "\n",
    "    j = y.dot(np.log(h(theta, X)))  + (1 - y).dot(np.log(1 - h(theta, X)))\n",
    "    return (-j/m)\n",
    "\n",
    "\n",
    "def grad(theta, X, y):\n",
    "    m = X.shape[0]\n",
    "    return ((h(theta, X) - y).dot(X))/m\n",
    "\n",
    "# Add a column of ones:\n",
    "m, features = np.shape(X_initial)\n",
    "features += 1\n",
    "X = np.concatenate([np.ones((m, 1)), X_initial], axis=1)\n",
    "initial_theta = np.zeros((features))\n",
    "\n",
    "\n",
    "def check_functions(grad_func, cost_func):\n",
    "    '''\n",
    "    Asserts that the cost and gradient functions return known corret values for a given theta, X, y.  \n",
    "    Test case from https://www.coursera.org/learn/machine-learning/discussions/weeks/3/threads/tA3ESpq0EeW70BJZtLVfGQ\n",
    "    The expected cost is 4.6832.\n",
    "    The expected gradient = [0.31722, 0.87232, 1.64812, 2.23787]\n",
    "    '''\n",
    "    test_X = np.array([[1, 8, 1, 6], [1, 3, 5, 7], [1, 4, 9, 2]])  # X\n",
    "    test_y = np.array([[1, 0, 1]])  # y\n",
    "    test_theta = np.array([-2, -1, 1, 2])\n",
    "    \n",
    "    grad_diff = grad_func(test_theta, test_X, test_y) - np.array([0.31722, 0.87232, 1.64812, 2.23787])\n",
    "    assert grad_diff.dot(grad_diff.T) < 0.0001\n",
    "    assert abs(cost_func(test_theta, test_X, test_y, debug=False) - 4.6832) < 0.0001\n",
    "    \n",
    "check_functions(grad, cost)\n",
    "print minimize(fun=cost, x0=initial_theta, args=(X, y), jac=grad)"
   ]
  }
 ],
 "metadata": {
  "kernelspec": {
   "display_name": "Python 2",
   "language": "python",
   "name": "python2"
  },
  "language_info": {
   "codemirror_mode": {
    "name": "ipython",
    "version": 2
   },
   "file_extension": ".py",
   "mimetype": "text/x-python",
   "name": "python",
   "nbconvert_exporter": "python",
   "pygments_lexer": "ipython2",
   "version": "2.7.5"
  }
 },
 "nbformat": 4,
 "nbformat_minor": 0
}
