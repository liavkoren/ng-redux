{
 "cells": [
  {
   "cell_type": "code",
   "execution_count": 225,
   "metadata": {
    "collapsed": true
   },
   "outputs": [],
   "source": [
    "%matplotlib inline\n",
    "import matplotlib.pyplot as plt\n",
    "import numpy as np\n",
    "from scipy.optimize import minimize\n",
    "\n",
    "# Load, scale and normalize the data:\n",
    "data = np.loadtxt('ex2data1.txt', delimiter=',')"
   ]
  },
  {
   "cell_type": "markdown",
   "metadata": {},
   "source": [
    "# `fminunc` >  `Scipy.optimize.minimize`\n",
    "\n",
    "It took a confused Stack [Overflow thread](https://stackoverflow.com/questions/38465959/scipy-minimize-with-gradient/38525804#38525804) and a few evenings to figure out the correct way to call `minimize` and then debug the algorithm's failure to converge. The [SciPy docs](https://docs.scipy.org/doc/scipy/reference/generated/scipy.optimize.minimize.html) are not as complete as they could be, but the real problem was understanding why the algo wasn't converging. Adding debugging messages into the cost function showed that the call to `np.power(np.e, -z)` was overflowing almost immediately. `Z` can get quite large, and I suspect `np.power` is a wrapper to a C function. Interesting, though, none of this is an issue with Octave's `fminunc`. \n",
    "\n",
    "Fortunately, feature scaling and normalization fixes the problem. "
   ]
  },
  {
   "cell_type": "code",
   "execution_count": 226,
   "metadata": {
    "collapsed": false
   },
   "outputs": [],
   "source": [
    "X_initial = data.copy()\n",
    "X_initial = X_initial[:, 0:2]\n",
    "X_initial[:, 0] -= X_initial[:, 0].mean()\n",
    "X_initial[:, 0] /= X_initial[:, 0].std()\n",
    "X_initial[:, 1] -= X_initial[:, 1].mean()\n",
    "X_initial[:, 1] /= X_initial[:, 1].std()\n",
    "y = data[:, 2]"
   ]
  },
  {
   "cell_type": "markdown",
   "metadata": {},
   "source": [
    "# Feature scaling and regularizing doesn't change the way the data \"looks\":\n",
    "\n",
    "The structural relationship of the data isn't affected by feature scaling, but obviously the statistical properties of the data are completely changed:\n",
    "\n",
    "## Unscaled:"
   ]
  },
  {
   "cell_type": "code",
   "execution_count": 227,
   "metadata": {
    "collapsed": false
   },
   "outputs": [
    {
     "name": "stdout",
     "output_type": "stream",
     "text": [
      "44.1554240485\n",
      "34.4611962735\n",
      "1187.5740486\n"
     ]
    },
    {
     "data": {
      "image/png": "[encoded data removed]",
      "text/plain": [
       "<matplotlib.figure.Figure at 0x10a115650>"
      ]
     },
     "metadata": {},
     "output_type": "display_data"
    }
   ],
   "source": [
    "positive_unscaled = data[data[:, 2] == 1, :]\n",
    "plt.plot(positive_unscaled[:, 0], positive_unscaled[:, 1], 'yo')\n",
    "negative_unscaled = data[data[:, 2] == 0, :]\n",
    "plt.plot(negative_unscaled[:, 0], negative_unscaled[:, 1], 'rs')\n",
    "\n",
    "print data.mean()\n",
    "print data.std()\n",
    "print data.var()"
   ]
  },
  {
   "cell_type": "markdown",
   "metadata": {},
   "source": [
    "## Scaled: "
   ]
  },
  {
   "cell_type": "code",
   "execution_count": 228,
   "metadata": {
    "collapsed": false
   },
   "outputs": [
    {
     "name": "stdout",
     "output_type": "stream",
     "text": [
      "5.24025267623e-16\n",
      "1.0\n",
      "1.0\n"
     ]
    },
    {
     "data": {
      "image/png": "[encoded data removed]",
      "text/plain": [
       "<matplotlib.figure.Figure at 0x10a77bc10>"
      ]
     },
     "metadata": {},
     "output_type": "display_data"
    }
   ],
   "source": [
    "positive = X_initial[y == 1, :]\n",
    "plt.plot(positive[:, 0], positive[:, 1], 'yo')\n",
    "negative = X_initial[y == 0, :]\n",
    "plt.plot(negative[:, 0], negative[:, 1], 'rs')\n",
    "\n",
    "print X_initial.mean()\n",
    "print X_initial.std()\n",
    "print X_initial.var()"
   ]
  },
  {
   "cell_type": "code",
   "execution_count": 229,
   "metadata": {
    "collapsed": false
   },
   "outputs": [
    {
     "name": "stdout",
     "output_type": "stream",
     "text": [
      "0.441554240485\n",
      "0.344611962735\n",
      "0.11875740486\n"
     ]
    },
    {
     "data": {
      "image/png": "[encoded data removed]",
      "text/plain": [
       "<matplotlib.figure.Figure at 0x10a33ddd0>"
      ]
     },
     "metadata": {},
     "output_type": "display_data"
    }
   ],
   "source": [
    "# Divide by 10 as a comparison:\n",
    "X_div = data.copy()\n",
    "X_div /= 100\n",
    "\n",
    "positive_divided = X_div[y == 1, :]\n",
    "plt.plot(positive_divided[:, 0], positive_divided[:, 1], 'yo')\n",
    "\n",
    "negative_divided = X_div[data[:, 2] == 0, :]\n",
    "plt.plot(negative_divided[:, 0], negative_divided[:, 1], 'rs')\n",
    "\n",
    "print X_div.mean()\n",
    "print X_div.std()\n",
    "print X_div.var()"
   ]
  },
  {
   "cell_type": "code",
   "execution_count": 230,
   "metadata": {
    "collapsed": false
   },
   "outputs": [],
   "source": [
    "def sigmoid(z):\n",
    "    return 1/(1 + np.power(np.e, -z))\n",
    "\n",
    "h = lambda theta, x: sigmoid(x.dot(theta))\n",
    "\n",
    "\n",
    "def cost(theta, X, y, lambd=0, debug=False, **kwargs):\n",
    "    \"\"\" Logistic regression cost function with optional regularization. `Lambd` is the regularization constant. \"\"\"\n",
    "    m = X.shape[0]\n",
    "    j = y.dot(np.log(h(theta, X)))  + (1 - y).dot(np.log(1 - h(theta, X)))\n",
    "    regularization = (float(lambd)/float(2*m)) * theta[1:].dot(theta[1:].T)\n",
    "    j /= -m\n",
    "    j += regularization\n",
    "    return j\n",
    "\n",
    "\n",
    "def grad(theta, X, y, lambd=0, **kwargs):\n",
    "    m = X.shape[0]\n",
    "    regularization_theta = theta.copy()\n",
    "    regularization_theta[0] = 0\n",
    "    return ((h(theta, X) - y).dot(X))/m + (float(lambd)/m)*regularization_theta.astype(float)\n",
    "\n",
    "# Add a column of ones:\n",
    "m, features = np.shape(X_initial)\n",
    "features += 1\n",
    "X = np.concatenate([np.ones((m, 1)), X_initial], axis=1)\n",
    "initial_theta = np.zeros((features))\n",
    "\n",
    "\n",
    "def check_functions(grad_func, cost_func):\n",
    "    '''\n",
    "    Asserts that the cost and gradient functions return known corret values for a given theta, X, y.  \n",
    "    Test case from https://www.coursera.org/learn/machine-learning/discussions/weeks/3/threads/tA3ESpq0EeW70BJZtLVfGQ\n",
    "    The expected cost is 4.6832.\n",
    "    The expected gradient = [0.31722, 0.87232, 1.64812, 2.23787]\n",
    "    '''\n",
    "    test_X = np.array([[1, 8, 1, 6], [1, 3, 5, 7], [1, 4, 9, 2]])  # X\n",
    "    test_y = np.array([[1, 0, 1]])  # y\n",
    "    test_theta = np.array([-2, -1, 1, 2])\n",
    "    \n",
    "    grad_diff = grad_func(test_theta, test_X, test_y) - np.array([0.31722, 0.87232, 1.64812, 2.23787])\n",
    "    assert grad_diff.dot(grad_diff.T) < 0.0001\n",
    "    assert abs(cost_func(test_theta, test_X, test_y, debug=False) - 4.6832) < 0.0001\n",
    "    \n",
    "check_functions(grad, cost)\n",
    "minimization_result = minimize(fun=cost, x0=initial_theta, args=(X, y), jac=grad)"
   ]
  },
  {
   "cell_type": "markdown",
   "metadata": {},
   "source": [
    "The scaled and normalized data set gives the correct answer. If you just naively divide the dataset by a constant factor, you need to divide by ~100 to get `minimize` to converge, and it yields the wrong answer. "
   ]
  },
  {
   "cell_type": "code",
   "execution_count": 231,
   "metadata": {
    "collapsed": false
   },
   "outputs": [
    {
     "data": {
      "text/plain": [
       "0.20349770235115472"
      ]
     },
     "execution_count": 231,
     "metadata": {},
     "output_type": "execute_result"
    }
   ],
   "source": [
    "def divide_data_theta():\n",
    "    \"\"\" The optimization result is incorrect if you just divide the dataset by a constant. \"\"\"\n",
    "    div_result = minimize(fun=cost, x0=initial_theta, args=(X_div, y), jac=grad)\n",
    "    print div_result\n",
    "    print cost(div_result.x, X_div, y)\n",
    "\n",
    "cost(minimization_result.x, X, y)"
   ]
  },
  {
   "cell_type": "markdown",
   "metadata": {},
   "source": [
    "# Ploting the decision boundary\n",
    "\n",
    "To plot the linear decision boundary we want to find the equation for the line: \n",
    "\n",
    "$${\\theta_1}x_1 + {\\theta_2}x_2 + {\\theta_3}x_3 = 0$$ \n",
    "\n",
    "$x_1$ is a bias unit and set to 1. We can arbitrarily pick an $x$ to solve for. Picking $x_3$ and rearranging we get:\n",
    "\n",
    "$$ x_3 = -\\frac{{\\theta_2}x_2 + {\\theta_1}}{\\theta_3}  $$"
   ]
  },
  {
   "cell_type": "code",
   "execution_count": 232,
   "metadata": {
    "collapsed": false,
    "scrolled": true
   },
   "outputs": [
    {
     "data": {
      "text/plain": [
       "[<matplotlib.lines.Line2D at 0x10ad2a350>]"
      ]
     },
     "execution_count": 232,
     "metadata": {},
     "output_type": "execute_result"
    },
    {
     "data": {
      "image/png": "[encoded data removed]",
      "text/plain": [
       "<matplotlib.figure.Figure at 0x10ae43890>"
      ]
     },
     "metadata": {},
     "output_type": "display_data"
    }
   ],
   "source": [
    "# We omit the first column because those are the 1s that we appended onto X:\n",
    "plt.plot(positive[:, 0], positive[:, 1], 'yo')\n",
    "plt.plot(negative[:, 0], negative[:, 1], 'rs')\n",
    "\n",
    "plot_x = np.array([np.min(X[:,1]),  np.max(X[:,1])])\n",
    "theta = minimization_result.x\n",
    "plot_y = (-1/theta[2]) * (theta[1] * plot_x + theta[0]);\n",
    "plt.plot(plot_x, plot_y)\n"
   ]
  },
  {
   "cell_type": "markdown",
   "metadata": {},
   "source": [
    "# Accuracy"
   ]
  },
  {
   "cell_type": "code",
   "execution_count": 233,
   "metadata": {
    "collapsed": false
   },
   "outputs": [
    {
     "name": "stdout",
     "output_type": "stream",
     "text": [
      "Percentage correctly predicted: 89%, as expected.\n"
     ]
    }
   ],
   "source": [
    "model = lambda x: x.dot(minimization_result.x)\n",
    "predictions = np.round(sigmoid(model(X)))\n",
    "\n",
    "total_correct = sum(predictions == y)\n",
    "assert float(total_correct) / float(y.shape[0]) == 0.89\n",
    "print 'Percentage correctly predicted: 89%, as expected.' "
   ]
  },
  {
   "cell_type": "markdown",
   "metadata": {},
   "source": [
    "# Nonlinear classification & Feature Mapping\n",
    "\n",
    "Our next data set isn't linearly seperable, and only has two features, so we are going to create a number of polynomial features in order to find a classifier for it."
   ]
  },
  {
   "cell_type": "code",
   "execution_count": 234,
   "metadata": {
    "collapsed": false
   },
   "outputs": [
    {
     "data": {
      "text/plain": [
       "[<matplotlib.lines.Line2D at 0x10afa8e10>]"
      ]
     },
     "execution_count": 234,
     "metadata": {},
     "output_type": "execute_result"
    },
    {
     "data": {
      "image/png": "[encoded data removed]",
      "text/plain": [
       "<matplotlib.figure.Figure at 0x10ad3ce10>"
      ]
     },
     "metadata": {},
     "output_type": "display_data"
    }
   ],
   "source": [
    "def map_features(X):\n",
    "    \"\"\" \n",
    "    Given X, our two-feature array of x1 & x2, returns a new np array with polynomial feature: \n",
    "    x1, x2, x1^2, x2^, x1*x2, x1*x2^2, x1^2*x2, etc... up to the 6th degree. \n",
    "    \"\"\"\n",
    "    x1 = X[:, 0]\n",
    "    x2 = X[:, 1]\n",
    "    degree = 6\n",
    "    output = np.ones((x1.shape[0], 1))\n",
    "    for i in range(1, degree+1):\n",
    "        for j in range(i+1):\n",
    "            rows, columns = output.shape\n",
    "            output = np.concatenate([output, np.zeros((rows, 1))], axis=1)\n",
    "            output[:, columns] = np.power(x1, i - j) * np.power(x2, j)\n",
    "    return output\n",
    "\n",
    "data2 = np.loadtxt('ex2data2.txt', delimiter=',')\n",
    "X2_initial = data2[:, 0:2]\n",
    "y2 = data2[:, 2]\n",
    "\n",
    "polynomial_X = map_features(X2_initial)\n",
    "\n",
    "positive = X2_initial[y2 == 1]\n",
    "plt.plot(positive[:, 0], positive[:, 1], '+')\n",
    "\n",
    "negative = X2_initial[y2 == 0]\n",
    "plt.plot(negative[:, 0], negative[:, 1], 'wo')"
   ]
  },
  {
   "cell_type": "code",
   "execution_count": 235,
   "metadata": {
    "collapsed": false
   },
   "outputs": [
    {
     "name": "stdout",
     "output_type": "stream",
     "text": [
      "0.69314718056\n"
     ]
    }
   ],
   "source": [
    "rows, features = polynomial_X.shape\n",
    "initial_theta = np.zeros((features))\n",
    "regularization = 1  # Lambda value\n",
    "print cost(initial_theta, polynomial_X, y2, lambd=regularization)"
   ]
  },
  {
   "cell_type": "code",
   "execution_count": 249,
   "metadata": {
    "collapsed": false
   },
   "outputs": [],
   "source": [
    "def curried_cost(theta, X, y):\n",
    "    return cost(theta, X, y, lambd=1)\n",
    "\n",
    "def curried_grad(theta, X, y):\n",
    "    return grad(theta, X, y, lambd=1)\n",
    "\n",
    "minimization_result = minimize(fun=curried_cost, x0=initial_theta, args=(polynomial_X, y2), jac=curried_grad, tol=0.0000001)"
   ]
  },
  {
   "cell_type": "code",
   "execution_count": 251,
   "metadata": {
    "collapsed": false
   },
   "outputs": [
    {
     "data": {
      "text/plain": [
       "0.27264680398166719"
      ]
     },
     "execution_count": 251,
     "metadata": {},
     "output_type": "execute_result"
    }
   ],
   "source": [
    "# As a sanity check, I've grabbed the value fminunc computes in ex2 for theta and compared the two vectors...\n",
    "octave_theta = np.array([1.2308e+00, 6.2746e-01, 1.2244e+00, -2.0028e+00, -6.7719e-01, -1.1363e+00, 5.3377e-02, -3.0588e-01, -2.8833e-01, -2.3607e-01, -1.5155e+00, -6.2719e-02, -5.6782e-01, -1.8009e-01, -1.2011e+00, -3.0469e-01, -1.9685e-01, -7.0687e-02, -2.4604e-01, -2.2396e-01, -6.5167e-01, -1.1139e+00, -3.6856e-04, -2.8302e-01, 1.9365e-03, -3.0873e-01, -8.3980e-02, -1.1066e+00])\n",
    "diff = minimization_result.x - octave_theta\n",
    "diff.dot(diff.T)\n",
    "\n",
    "# Hmm.. this is a fairly large difference from what Octave finds, but possibly due to numerical issues.."
   ]
  },
  {
   "cell_type": "markdown",
   "metadata": {},
   "source": [
    "# The nonlinear decision boundary\n",
    "\n",
    "Similarly to how we plotted the parabolic error surface in ex1, we can use a grid search to find points on 'decision surface' here, and the plot the contour at z=0, which represents the decision boundary. \n"
   ]
  },
  {
   "cell_type": "code",
   "execution_count": 283,
   "metadata": {
    "collapsed": false
   },
   "outputs": [],
   "source": [
    "u = np.linspace(-1, 1.5, 50)\n",
    "v = np.linspace(-1, 1.5, 50)\n",
    "z = np.zeros((u.size, v.size))\n",
    "for i, u_val in enumerate(u):\n",
    "    for j, v_val in enumerate(v):        \n",
    "        X = np.array([[u_val, v_val], ])\n",
    "        z[i, j] = map_features(X).dot(minimization_result.x) \n",
    "        \n"
   ]
  },
  {
   "cell_type": "code",
   "execution_count": 290,
   "metadata": {
    "collapsed": false
   },
   "outputs": [
    {
     "data": {
      "image/png": "[encoded data removed]",
      "text/plain": [
       "<matplotlib.figure.Figure at 0x10b3c0990>"
      ]
     },
     "metadata": {},
     "output_type": "display_data"
    }
   ],
   "source": [
    "plt.figure()\n",
    "plt.contour(u, v, z.T, levels=[0.0])\n",
    "plt.plot(positive[:, 0], positive[:, 1], '+')\n",
    "plt.plot(negative[:, 0], negative[:, 1], 'wo')\n",
    "plt.show()\n"
   ]
  }
 ],
 "metadata": {
  "kernelspec": {
   "display_name": "Python 2",
   "language": "python",
   "name": "python2"
  },
  "language_info": {
   "codemirror_mode": {
    "name": "ipython",
    "version": 2
   },
   "file_extension": ".py",
   "mimetype": "text/x-python",
   "name": "python",
   "nbconvert_exporter": "python",
   "pygments_lexer": "ipython2",
   "version": "2.7.5"
  }
 },
 "nbformat": 4,
 "nbformat_minor": 0
}
