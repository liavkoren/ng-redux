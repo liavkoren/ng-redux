{
 "cells": [
  {
   "cell_type": "code",
   "execution_count": 163,
   "metadata": {
    "collapsed": false
   },
   "outputs": [
    {
     "name": "stdout",
     "output_type": "stream",
     "text": [
      "done\n"
     ]
    }
   ],
   "source": [
    "%matplotlib inline\n",
    "import io\n",
    "import pickle\n",
    "\n",
    "\n",
    "import matplotlib.pyplot as plt\n",
    "import matplotlib.image as mpimg\n",
    "import numpy as np\n",
    "\n",
    "\n",
    "def process(data_string):\n",
    "    try:\n",
    "        return np.array(\n",
    "            data_string.replace('\\n', '').strip().split(' '), \n",
    "            dtype=np.longdouble\n",
    "        )\n",
    "    except ValueError:\n",
    "        return ''\n",
    "\n",
    "def get_data(verbose=False):\n",
    "    with io.FileIO('ex3data1.dat') as file:\n",
    "        for _ in range(5):\n",
    "            line = file.readline()\n",
    "            if verbose:\n",
    "                print line\n",
    "        data = [process(line) for line in file]\n",
    "        disguard1 = data.pop()\n",
    "        disguard2 = data.pop()\n",
    "        return np.array(data), disguard1, disguard2\n",
    "\n",
    "\n",
    "def pickle_data(data):\n",
    "    with open('ex3data1_py.dat', 'w') as file:\n",
    "        s = pickle.dumps(data)\n",
    "        file.write(s)\n",
    "        \n",
    "data128, d1, d2 = get_data()\n",
    "assert not d1\n",
    "assert not d2\n",
    "assert data128.shape == (5000, 400)\n",
    "        \n",
    "def transpose():\n",
    "    \"\"\" Likely because Octave is column-major and numpy is row-major, each image when loaded is transposed. \"\"\"\n",
    "    m, n = data128.shape\n",
    "    assert n == 400\n",
    "    for index, row in enumerate(data128):\n",
    "        transposed = row.reshape(20, 20).T.reshape(1, n)\n",
    "        # assert transposed != row\n",
    "        data128[index, :] = transposed\n",
    "transpose()\n",
    "    \n",
    "print 'done'"
   ]
  },
  {
   "cell_type": "code",
   "execution_count": 11,
   "metadata": {
    "collapsed": false
   },
   "outputs": [],
   "source": [
    "def get_labels():\n",
    "    with io.FileIO('y.dat') as file:\n",
    "        return np.array([np.int(float(line)) for line in file.readlines()])\n",
    "        \n",
    "y0 = get_labels()\n",
    "y = y0.copy()    \n",
    "# Octave uses 1-indexing, so to prevent confusion, MNIST '0's were labelled as '10'. \n",
    "y[y == 10] = 0"
   ]
  },
  {
   "cell_type": "markdown",
   "metadata": {},
   "source": [
    "# Logistic regression cost functions:"
   ]
  },
  {
   "cell_type": "code",
   "execution_count": 216,
   "metadata": {
    "collapsed": false
   },
   "outputs": [],
   "source": [
    "from scipy.optimize import minimize\n",
    "\n",
    "sigmoid = lambda z: 1/(1 + np.power(np.e, -z))\n",
    "h = lambda theta, x: sigmoid(x.dot(theta))\n",
    "h_log = lambda theta, x: log_sigmoid(x.dot(theta))\n",
    "\n",
    "def log_sigmoid(z):\n",
    "    m = np.max(z)\n",
    "    normalized = z - m \n",
    "    return -np.log1p(m + np.log(np.exp(-normalized)))\n",
    "\n",
    "def cost(theta, X, y, debug, lambd=0, **kwargs):\n",
    "    \"\"\" Logistic regression cost function with optional regularization. `Lambd` is the regularization constant. \"\"\"\n",
    "    m = X.shape[0]\n",
    "    j = y.dot(np.log(h(theta, X)))  + (1 - y).dot(np.log(1 - h(theta, X)))\n",
    "    regularization = (float(lambd)/float(2*m)) * theta[1:].dot(theta[1:].T)\n",
    "    if debug:\n",
    "        print 'MAX: x.dot(theta): %s' % np.max(X.dot(theta))\n",
    "        print 'h(x) = %s' % h(theta, X)\n",
    "        # print 'log hypothesis: %s' % np.log(h(theta, X))\n",
    "        # print '======================='\n",
    "        \n",
    "    j /= -m\n",
    "    j += regularization\n",
    "    return j\n",
    "\n",
    "\n",
    "def grad(theta, X, y, lambd=0, **kwargs):\n",
    "    m = X.shape[0]\n",
    "    regularization_theta = theta.copy()\n",
    "    regularization_theta[0] = 0\n",
    "    return ((h(theta, X) - y).dot(X))/m + (float(lambd)/m)*regularization_theta.astype(float)\n",
    "\n",
    "def check_functions(grad_func, cost_func):\n",
    "    '''\n",
    "    Asserts that the cost and gradient functions return known corret values for a given theta, X, y.  \n",
    "    Test case from https://www.coursera.org/learn/machine-learning/discussions/weeks/3/threads/tA3ESpq0EeW70BJZtLVfGQ\n",
    "    The expected cost is 4.6832.\n",
    "    The expected gradient = [0.31722, 0.87232, 1.64812, 2.23787]\n",
    "    '''\n",
    "    test_X = np.array([[1, 8, 1, 6], [1, 3, 5, 7], [1, 4, 9, 2]])  # X\n",
    "    test_y = np.array([[1, 0, 1]])  # y\n",
    "    test_theta = np.array([-2, -1, 1, 2])\n",
    "    \n",
    "    grad_diff = grad_func(test_theta, test_X, test_y) - np.array([0.31722, 0.87232, 1.64812, 2.23787])\n",
    "    assert grad_diff.dot(grad_diff.T) < 0.0001\n",
    "    assert abs(cost_func(test_theta, test_X, test_y, debug=False) - 4.6832) < 0.0001\n",
    "    \n",
    "check_functions(grad, cost)\n"
   ]
  },
  {
   "cell_type": "code",
   "execution_count": 217,
   "metadata": {
    "collapsed": false
   },
   "outputs": [
    {
     "name": "stdout",
     "output_type": "stream",
     "text": [
      "MAX: x.dot(theta): 0.0\n",
      "h(x) = [ 0.5  0.5  0.5  0.5  0.5  0.5  0.5  0.5  0.5  0.5  0.5  0.5  0.5  0.5  0.5\n",
      "  0.5  0.5  0.5  0.5  0.5  0.5  0.5  0.5  0.5  0.5  0.5  0.5  0.5  0.5  0.5\n",
      "  0.5  0.5  0.5  0.5  0.5  0.5  0.5  0.5  0.5  0.5  0.5  0.5  0.5  0.5  0.5\n",
      "  0.5  0.5  0.5  0.5  0.5  0.5  0.5  0.5  0.5  0.5  0.5  0.5  0.5  0.5  0.5\n",
      "  0.5  0.5  0.5  0.5  0.5  0.5  0.5  0.5  0.5  0.5  0.5  0.5  0.5  0.5  0.5\n",
      "  0.5  0.5  0.5  0.5  0.5  0.5  0.5  0.5  0.5  0.5  0.5  0.5  0.5  0.5  0.5\n",
      "  0.5  0.5  0.5  0.5  0.5  0.5  0.5  0.5  0.5  0.5  0.5  0.5  0.5  0.5  0.5\n",
      "  0.5  0.5  0.5  0.5  0.5  0.5  0.5  0.5  0.5  0.5  0.5  0.5  0.5  0.5  0.5\n",
      "  0.5  0.5  0.5  0.5  0.5  0.5  0.5  0.5  0.5  0.5  0.5  0.5  0.5  0.5  0.5\n",
      "  0.5  0.5  0.5  0.5  0.5  0.5  0.5  0.5  0.5  0.5  0.5  0.5  0.5  0.5  0.5\n",
      "  0.5  0.5  0.5  0.5  0.5  0.5  0.5  0.5  0.5  0.5  0.5  0.5  0.5  0.5  0.5\n",
      "  0.5  0.5  0.5  0.5  0.5  0.5  0.5  0.5  0.5  0.5  0.5  0.5  0.5  0.5  0.5\n",
      "  0.5  0.5  0.5  0.5  0.5  0.5  0.5  0.5  0.5  0.5  0.5  0.5  0.5  0.5  0.5\n",
      "  0.5  0.5  0.5  0.5  0.5  0.5  0.5  0.5  0.5  0.5  0.5  0.5  0.5  0.5  0.5\n",
      "  0.5  0.5  0.5  0.5  0.5  0.5  0.5  0.5  0.5  0.5  0.5  0.5  0.5  0.5  0.5\n",
      "  0.5  0.5  0.5  0.5  0.5  0.5  0.5  0.5  0.5  0.5  0.5  0.5  0.5  0.5  0.5\n",
      "  0.5  0.5  0.5  0.5  0.5  0.5  0.5  0.5  0.5  0.5  0.5  0.5  0.5  0.5  0.5\n",
      "  0.5  0.5  0.5  0.5  0.5  0.5  0.5  0.5  0.5  0.5  0.5  0.5  0.5  0.5  0.5\n",
      "  0.5  0.5  0.5  0.5  0.5  0.5  0.5  0.5  0.5  0.5  0.5  0.5  0.5  0.5  0.5\n",
      "  0.5  0.5  0.5  0.5  0.5  0.5  0.5  0.5  0.5  0.5  0.5  0.5  0.5  0.5  0.5\n",
      "  0.5  0.5  0.5  0.5  0.5  0.5  0.5  0.5  0.5  0.5  0.5  0.5  0.5  0.5  0.5\n",
      "  0.5  0.5  0.5  0.5  0.5  0.5  0.5  0.5  0.5  0.5  0.5  0.5  0.5  0.5  0.5\n",
      "  0.5  0.5  0.5  0.5  0.5  0.5  0.5  0.5  0.5  0.5  0.5  0.5  0.5  0.5  0.5\n",
      "  0.5  0.5  0.5  0.5  0.5  0.5  0.5  0.5  0.5  0.5  0.5  0.5  0.5  0.5  0.5\n",
      "  0.5  0.5  0.5  0.5  0.5  0.5  0.5  0.5  0.5  0.5  0.5  0.5  0.5  0.5  0.5\n",
      "  0.5  0.5  0.5  0.5  0.5  0.5  0.5  0.5  0.5  0.5  0.5  0.5  0.5  0.5  0.5\n",
      "  0.5  0.5  0.5  0.5  0.5  0.5  0.5  0.5  0.5  0.5  0.5  0.5  0.5  0.5  0.5\n",
      "  0.5  0.5  0.5  0.5  0.5  0.5  0.5  0.5  0.5  0.5  0.5  0.5  0.5  0.5  0.5\n",
      "  0.5  0.5  0.5  0.5  0.5  0.5  0.5  0.5  0.5  0.5  0.5  0.5  0.5  0.5  0.5\n",
      "  0.5  0.5  0.5  0.5  0.5  0.5  0.5  0.5  0.5  0.5  0.5  0.5  0.5  0.5  0.5\n",
      "  0.5  0.5  0.5  0.5  0.5  0.5  0.5  0.5  0.5  0.5  0.5  0.5  0.5  0.5  0.5\n",
      "  0.5  0.5  0.5  0.5  0.5  0.5  0.5  0.5  0.5  0.5  0.5  0.5  0.5  0.5  0.5\n",
      "  0.5  0.5  0.5  0.5  0.5  0.5  0.5  0.5  0.5  0.5  0.5  0.5  0.5  0.5  0.5\n",
      "  0.5  0.5  0.5  0.5  0.5]\n",
      "MAX: x.dot(theta): 251.426470824\n",
      "h(x) = [ 1.0  1.0  1.0  1.0  1.0  1.0  1.0  1.0  1.0  1.0  0.99999998  1.0  1.0\n",
      "  1.0  0.99999986  0.99999248  1.0  1.0  1.0  1.0  1.0  1.0  1.0  1.0  1.0\n",
      "  1.0  0.039621081  1.0  1.0  1.0  1.0  1.0  1.0  1.0  1.0  1.0  1.0  1.0\n",
      "  1.0  1.0  1.0  1.0  1.0  1.0  1.0  0.42345999  1.0  1.0  1.0  1.0  1.0\n",
      "  1.0  1.0  1.0  1.0  1.0  1.0  0.99998837  1.0  1.0  1.0  1.0  0.98581557\n",
      "  1.0  1.0  1.0  1.0  1.0  1.0  1.0  1.0  1.0  1.0  1.0  1.0  1.0  1.0  1.0\n",
      "  1.0  1.0  1.0  1.0  1.0  1.0  1.0  1.0  1.0  1.3028189e-14  1.0  1.0  1.0\n",
      "  1.0  1.0  1.0  1.0  1.0  1.0  0.99999985  1.0  1.0  1.0  1.0  1.0\n",
      "  0.99999946  1.0  0.99999999  1.0  1.0  1.0  1.0  1.0  1.0  1.0  1.0  1.0\n",
      "  1.0  1.0  1.0  1.0  1.0  1.0  1.0  1.0  1.0  1.0  0.99995632  1.0  1.0\n",
      "  1.0  1.0  1.0  1.0  1.0  1.0  1.0  1.0  1.0  1.0  1.0  1.0  1.0  1.0  1.0\n",
      "  1.0  1.0  0.99999979  1.0  1.0  1.0  1.0  1.0  1.0  0.99999391\n",
      "  0.78121441  1.0  1.0  1.0  1.0  0.98031824  1.0  1.0  1.0  1.0  1.0\n",
      "  0.99979552  1.0  1.0  0.99999674  1.0  1.0  1.0  1.0  1.0  1.0  1.0  1.0\n",
      "  1.0  1.0  1.0  1.0  1.0  1.0  1.0  1.0  1.0  0.92140564  1.0  1.0  1.0\n",
      "  1.0  1.0  1.0  1.0  1.0  1.0  1.0  0.99997014  1.0  1.0  1.0  1.0  1.0\n",
      "  1.0  1.0  1.0  1.0  1.0  0.99999976  1.0  1.0  1.0  1.0  1.0  0.99894448\n",
      "  1.0  1.0  1.0  1.0  1.0  1.0  1.0  1.0  1.0  1.0  1.0  1.0  1.0  1.0  1.0\n",
      "  1.0  1.0  1.0  1.0  1.0  1.0  1.0  1.0  1.0  0.99991085  1.0  1.0  1.0\n",
      "  1.0  1.0  1.0  1.0  1.0  1.0  1.0  1.0  1.0  1.0  1.0  0.99997862  1.0\n",
      "  1.0  1.0  1.0  1.0  1.0  0.99993693  1.0  1.0  1.0  1.0  1.0  1.0\n",
      "  0.34974195  1.0  1.0  1.0  1.0  1.0  1.0  1.0  1.0  1.0  0.9968158  1.0\n",
      "  1.0  1.0  1.0  1.0  1.0  1.0  1.0  1.0  1.0  1.0  1.0  1.0  1.0  1.0  1.0\n",
      "  1.0  1.0  1.0  1.0  1.0  1.0  1.0  1.0  1.0  1.0  1.0  1.0  1.0  1.0  1.0\n",
      "  1.0  1.0  0.064864476  1.0  1.0  1.0  1.0  1.0  1.0  1.0  1.0  1.0  1.0\n",
      "  1.0  1.0  1.0  1.0  1.0  1.0  1.0  1.0  1.0  0.99999859  1.0  1.0  1.0\n",
      "  1.0  1.0  1.0  1.0  1.0  1.0  1.0  1.0  1.0  1.0  1.0  1.0  1.0  1.0  1.0\n",
      "  1.0  1.0  1.0  1.0  1.0  1.0  1.0  1.0  1.0  1.0  1.0  1.0  0.99999992\n",
      "  1.0  1.0  1.0  1.0  1.0  0.99770504  1.0  1.0  1.0  1.0  1.0  1.0  1.0\n",
      "  1.0  1.0  1.0  1.0  1.0  1.0  1.0  0.99973173  1.0  1.0  1.0  1.0  1.0\n",
      "  1.0  1.0  1.0  1.0  0.99999844  1.0  1.0  1.0  1.0  1.0  1.0  1.0  1.0\n",
      "  1.0  1.0  1.0  1.0  0.99974898  1.0  0.2898135  1.0  0.99999914\n",
      "  0.57908713  1.0  0.059305359  1.0  1.0  1.0  1.0  1.0  1.0  1.0\n",
      "  0.99971339  1.0  7.8887092e-07  1.0  1.0  1.0  1.0  1.0  1.0  1.0  1.0\n",
      "  1.0  1.0  1.0  1.0  1.0  1.0  1.0  1.0  0.012773541  1.0  1.0  1.0  1.0\n",
      "  1.0  1.0  1.0  1.0  1.0  1.0  1.0  1.0  1.0  1.0  1.0  1.0  1.0  1.0  1.0\n",
      "  1.0  1.0  1.0  1.0  1.0  1.0  1.0  1.0  1.0  1.0  1.0  1.0  1.0  1.0  1.0\n",
      "  1.0  1.0  1.0  1.0  1.0  1.0  1.0  0.99999998  1.0  3.7523802e-05  1.0\n",
      "  1.0  1.0  0.0086884842  1.0  1.0  1.0  1.0  1.0  1.0  1.0  1.0  1.0  1.0\n",
      "  1.0]\n",
      "Warning: Desired error not necessarily achieved due to precision loss.\n",
      "         Current function value: -inf\n",
      "         Iterations: 1\n",
      "         Function evaluations: 2\n",
      "         Gradient evaluations: 2\n",
      "False\n",
      "done!\n"
     ]
    },
    {
     "name": "stderr",
     "output_type": "stream",
     "text": [
      "/Users/liavkoren/Envs/data-sci/lib/python2.7/site-packages/ipykernel/__main__.py:15: RuntimeWarning: divide by zero encountered in log\n"
     ]
    }
   ],
   "source": [
    "k = len(set(y))  # num of classes, in this case the digits '0' thru '9'\n",
    "m, features = data128.shape\n",
    "X = data128.copy()\n",
    "Theta = np.zeros((k, features + 1))\n",
    "initial_theta = np.zeros(features+1)\n",
    "\n",
    "def scale_features(X_input, debug=False):\n",
    "    X = X_input.copy()\n",
    "    features = X.shape[1]\n",
    "    for column in range(features):\n",
    "        X[:, column] -= X[:, column].mean()\n",
    "        if X[:, column].std() != 0:\n",
    "            X[:, column] /= X[:, column].std()\n",
    "    return X\n",
    "\n",
    "# Slice out one of the digit classes:\n",
    "def get_data_slice(scale=False, debug=False, test_class=0):\n",
    "    X_0 = X.copy()\n",
    "    if scale:\n",
    "        X_0 = scale_features(X, debug=True)\n",
    "    X_0 = X_0[y==test_class, :]\n",
    "    y_0 = y[y==test_class]\n",
    "    return X_0, y_0\n",
    "\n",
    "debug=True\n",
    "\n",
    "X_0, y_0 = get_data_slice(scale=True, debug=debug, test_class=2)\n",
    "X_1 = np.concatenate([np.ones((X_0.shape[0], 1)), X_0], axis=1)\n",
    "assert X_1.shape[1] == 401\n",
    "\n",
    "def regularized_cost(theta, X, y, debug): return cost(theta, X, y, lambd=0.1, debug=debug)\n",
    "def regularized_grad(theta, X, y, debug): return grad(theta, X, y, lambd=0.1, debug=debug)\n",
    "\n",
    "minimization_result = minimize(\n",
    "    fun=regularized_cost, \n",
    "    x0=initial_theta, \n",
    "    args=(X_1, y_0, debug), \n",
    "    jac=regularized_grad,\n",
    "    options={'disp': True}\n",
    ")\n",
    "Theta[test_class, :] = minimization_result.x\n",
    "\n",
    "def train():\n",
    "    scale_features(X)\n",
    "    for klass in range(k):\n",
    "        result = minimize(fun=cost, x0=initial_theta, args=(X[y==klass, :], y[y==klass], False), jac=grad)\n",
    "        if result.success:\n",
    "            Theta[klass, :] = result.x\n",
    "        else:\n",
    "            print \"Failed for %s\" % klass\n",
    "# train()\n",
    "print minimization_result.success\n",
    "print 'done!'\n",
    "# print minimization_result.x"
   ]
  },
  {
   "cell_type": "code",
   "execution_count": 208,
   "metadata": {
    "collapsed": false
   },
   "outputs": [
    {
     "data": {
      "image/png": "[encoded data removed]",
      "text/plain": [
       "<PIL.Image.Image image mode=RGB size=100x100 at 0x111C0F950>"
      ]
     },
     "execution_count": 208,
     "metadata": {},
     "output_type": "execute_result"
    }
   ],
   "source": [
    "from PIL import Image\n",
    "from numpy import interp\n",
    "from IPython.display import display\n",
    "\n",
    "\n",
    "# A feature scaled image: \n",
    "def row2image(row):\n",
    "    img = interp(np.float64(row), [-1, 1], [0, 1])\n",
    "    img *= 255\n",
    "    image = Image.fromarray(img.reshape((20, 20))).convert('RGB')\n",
    "    return image.resize((100, 100))\n",
    "\n",
    "img = row2image(X_1[499, 1:])\n",
    "img\n"
   ]
  },
  {
   "cell_type": "code",
   "execution_count": 207,
   "metadata": {
    "collapsed": false
   },
   "outputs": [
    {
     "data": {
      "image/png": "[encoded data removed]",
      "text/plain": [
       "<PIL.Image.Image image mode=RGB size=100x100 at 0x111CA7CD0>"
      ]
     },
     "metadata": {},
     "output_type": "display_data"
    },
    {
     "data": {
      "image/png": "[encoded data removed]",
      "text/plain": [
       "<PIL.Image.Image image mode=RGB size=100x100 at 0x1111A83D0>"
      ]
     },
     "metadata": {},
     "output_type": "display_data"
    },
    {
     "data": {
      "image/png": "[encoded data removed]",
      "text/plain": [
       "<PIL.Image.Image image mode=RGB size=100x100 at 0x111CA7E10>"
      ]
     },
     "metadata": {},
     "output_type": "display_data"
    },
    {
     "data": {
      "image/png": "[encoded data removed]",
      "text/plain": [
       "<PIL.Image.Image image mode=RGB size=100x100 at 0x111CA7E10>"
      ]
     },
     "metadata": {},
     "output_type": "display_data"
    },
    {
     "data": {
      "image/png": "[encoded data removed]",
      "text/plain": [
       "<PIL.Image.Image image mode=RGB size=100x100 at 0x111CA7E10>"
      ]
     },
     "metadata": {},
     "output_type": "display_data"
    },
    {
     "data": {
      "image/png": "[encoded data removed]",
      "text/plain": [
       "<PIL.Image.Image image mode=RGB size=100x100 at 0x111CA7E10>"
      ]
     },
     "metadata": {},
     "output_type": "display_data"
    },
    {
     "data": {
      "image/png": "[encoded data removed]",
      "text/plain": [
       "<PIL.Image.Image image mode=RGB size=100x100 at 0x1111A83D0>"
      ]
     },
     "metadata": {},
     "output_type": "display_data"
    },
    {
     "data": {
      "image/png": "[encoded data removed]",
      "text/plain": [
       "<PIL.Image.Image image mode=RGB size=100x100 at 0x105911390>"
      ]
     },
     "metadata": {},
     "output_type": "display_data"
    },
    {
     "data": {
      "image/png": "[encoded data removed]",
      "text/plain": [
       "<PIL.Image.Image image mode=RGB size=100x100 at 0x111CA7CD0>"
      ]
     },
     "metadata": {},
     "output_type": "display_data"
    },
    {
     "data": {
      "image/png": "[encoded data removed]",
      "text/plain": [
       "<PIL.Image.Image image mode=RGB size=100x100 at 0x111C0F250>"
      ]
     },
     "metadata": {},
     "output_type": "display_data"
    }
   ],
   "source": [
    "# The raw data:\n",
    "    \n",
    "for index in range(3, 5000, 500):\n",
    "    row = data128[index, :]\n",
    "    display(row2image(row))\n"
   ]
  },
  {
   "cell_type": "code",
   "execution_count": 165,
   "metadata": {
    "collapsed": false
   },
   "outputs": [
    {
     "name": "stdout",
     "output_type": "stream",
     "text": [
      "done\n"
     ]
    }
   ],
   "source": [
    "print 'done'"
   ]
  },
  {
   "cell_type": "code",
   "execution_count": 131,
   "metadata": {
    "collapsed": true
   },
   "outputs": [],
   "source": [
    "np.log1p"
   ]
  },
  {
   "cell_type": "code",
   "execution_count": 162,
   "metadata": {
    "collapsed": false
   },
   "outputs": [
    {
     "name": "stdout",
     "output_type": "stream",
     "text": [
      "[[ 1  2  3  4]\n",
      " [ 5  6  7  8]\n",
      " [ 9 10 11 12]\n",
      " [13 14 15 16]]\n",
      "0 [ 1  5  9 13]\n",
      "1 [ 2  6 10 14]\n",
      "2 [ 3  7 11 15]\n",
      "3 [ 4  8 12 16]\n"
     ]
    }
   ],
   "source": [
    "def process(data_string):\n",
    "    try:\n",
    "        return np.array(\n",
    "            data_string.replace('\\n', '').strip().split(','), \n",
    "            dtype=np.int\n",
    "        )\n",
    "    except ValueError:\n",
    "        return ''\n",
    "\n",
    "def get_test_data(verbose=False):\n",
    "    with io.FileIO('small_test.dat') as file:\n",
    "        data = [process(line) for line in file]\n",
    "        return np.array(data)\n",
    "test = get_test_data()\n",
    "print test.T.reshape(1, 16).reshape(4, 4)\n",
    "for index, row in enumerate(test):\n",
    "    print '%s %s' % (index, row)"
   ]
  }
 ],
 "metadata": {
  "kernelspec": {
   "display_name": "Python 2",
   "language": "python",
   "name": "python2"
  },
  "language_info": {
   "codemirror_mode": {
    "name": "ipython",
    "version": 2
   },
   "file_extension": ".py",
   "mimetype": "text/x-python",
   "name": "python",
   "nbconvert_exporter": "python",
   "pygments_lexer": "ipython2",
   "version": "2.7.5"
  }
 },
 "nbformat": 4,
 "nbformat_minor": 0
}
