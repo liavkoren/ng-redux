{
 "cells": [
  {
   "cell_type": "code",
   "execution_count": 10,
   "metadata": {
    "collapsed": false
   },
   "outputs": [
    {
     "name": "stdout",
     "output_type": "stream",
     "text": [
      "done\n"
     ]
    }
   ],
   "source": [
    "%matplotlib inline\n",
    "import io\n",
    "import pickle\n",
    "\n",
    "\n",
    "import matplotlib.pyplot as plt\n",
    "import matplotlib.image as mpimg\n",
    "import numpy as np\n",
    "\n",
    "\n",
    "def process(data_string):\n",
    "    try:\n",
    "        return np.array(\n",
    "            data_string.replace('\\n', '').strip().split(' '), \n",
    "            dtype=np.longdouble\n",
    "        )\n",
    "    except ValueError:\n",
    "        return ''\n",
    "\n",
    "def get_data(verbose=False):\n",
    "    with io.FileIO('ex3data1.dat') as file:\n",
    "        for _ in range(5):\n",
    "            line = file.readline()\n",
    "            if verbose:\n",
    "                print line\n",
    "        data = [process(line) for line in file]\n",
    "        disguard1 = data.pop()\n",
    "        disguard2 = data.pop()\n",
    "        return np.array(data), disguard1, disguard2\n",
    "\n",
    "\n",
    "def pickle_data(data):\n",
    "    with open('ex3data1_py.dat', 'w') as file:\n",
    "        s = pickle.dumps(data)\n",
    "        file.write(s)\n",
    "        \n",
    "data128, d1, d2 = get_data()\n",
    "print 'done'"
   ]
  },
  {
   "cell_type": "code",
   "execution_count": 11,
   "metadata": {
    "collapsed": false
   },
   "outputs": [],
   "source": [
    "def get_labels():\n",
    "    with io.FileIO('y.dat') as file:\n",
    "        return np.array([np.int(float(line)) for line in file.readlines()])\n",
    "        \n",
    "y0 = get_labels()\n",
    "y = y0.copy()    \n",
    "# Octave uses 1-indexing, so to prevent confusion, MNIST '0's were labelled as '10'. \n",
    "y[y == 10] = 0"
   ]
  },
  {
   "cell_type": "markdown",
   "metadata": {},
   "source": [
    "# Logistic regression cost functions:"
   ]
  },
  {
   "cell_type": "code",
   "execution_count": 30,
   "metadata": {
    "collapsed": false
   },
   "outputs": [],
   "source": [
    "from scipy.optimize import minimize\n",
    "\n",
    "sigmoid = lambda z: 1/(1 + np.power(np.e, -z))\n",
    "h = lambda theta, x: sigmoid(x.dot(theta))\n",
    "\n",
    "\n",
    "def cost(theta, X, y, debug, lambd=0, **kwargs):\n",
    "    \"\"\" Logistic regression cost function with optional regularization. `Lambd` is the regularization constant. \"\"\"\n",
    "    m = X.shape[0]\n",
    "    j = y.dot(np.log(h(theta, X)))  + (1 - y).dot(np.log(1 - h(theta, X)))\n",
    "    regularization = (float(lambd)/float(2*m)) * theta[1:].dot(theta[1:].T)\n",
    "    if debug:\n",
    "        print 'MAX: x.dot(theta): %s' % np.max(X.dot(theta))\n",
    "        # print 'log hypothesis: %s' % np.log(h(theta, X))\n",
    "        # print '======================='\n",
    "        \n",
    "    j /= -m\n",
    "    j += regularization\n",
    "    return j\n",
    "\n",
    "\n",
    "def grad(theta, X, y, lambd=0, **kwargs):\n",
    "    m = X.shape[0]\n",
    "    regularization_theta = theta.copy()\n",
    "    regularization_theta[0] = 0\n",
    "    return ((h(theta, X) - y).dot(X))/m + (float(lambd)/m)*regularization_theta.astype(float)\n",
    "\n",
    "def check_functions(grad_func, cost_func):\n",
    "    '''\n",
    "    Asserts that the cost and gradient functions return known corret values for a given theta, X, y.  \n",
    "    Test case from https://www.coursera.org/learn/machine-learning/discussions/weeks/3/threads/tA3ESpq0EeW70BJZtLVfGQ\n",
    "    The expected cost is 4.6832.\n",
    "    The expected gradient = [0.31722, 0.87232, 1.64812, 2.23787]\n",
    "    '''\n",
    "    test_X = np.array([[1, 8, 1, 6], [1, 3, 5, 7], [1, 4, 9, 2]])  # X\n",
    "    test_y = np.array([[1, 0, 1]])  # y\n",
    "    test_theta = np.array([-2, -1, 1, 2])\n",
    "    \n",
    "    grad_diff = grad_func(test_theta, test_X, test_y) - np.array([0.31722, 0.87232, 1.64812, 2.23787])\n",
    "    assert grad_diff.dot(grad_diff.T) < 0.0001\n",
    "    assert abs(cost_func(test_theta, test_X, test_y, debug=False) - 4.6832) < 0.0001\n",
    "    \n",
    "check_functions(grad, cost)\n"
   ]
  },
  {
   "cell_type": "code",
   "execution_count": 31,
   "metadata": {
    "collapsed": false
   },
   "outputs": [
    {
     "name": "stdout",
     "output_type": "stream",
     "text": [
      "MAX: x.dot(theta): 0.0\n",
      "MAX: x.dot(theta): 255.603535037\n",
      "Warning: Desired error not necessarily achieved due to precision loss.\n",
      "         Current function value: -inf\n",
      "         Iterations: 1\n",
      "         Function evaluations: 2\n",
      "         Gradient evaluations: 2\n",
      "False\n",
      "done!\n"
     ]
    },
    {
     "name": "stderr",
     "output_type": "stream",
     "text": [
      "/Users/liavkoren/Envs/data-sci/lib/python2.7/site-packages/ipykernel/__main__.py:10: RuntimeWarning: divide by zero encountered in log\n"
     ]
    }
   ],
   "source": [
    "k = len(set(y))  # num of classes, in this case the digits '0' thru '9'\n",
    "m, features = data128.shape\n",
    "X = np.concatenate([np.ones((m, 1)), data128], axis=1)\n",
    "Theta = np.zeros((k, features + 1))\n",
    "initial_theta = np.zeros(features+1)\n",
    "\n",
    "def scale_features(X_input, debug=False):\n",
    "    X = X_input.copy()\n",
    "    features = X.shape[1]\n",
    "    for i in range(features):\n",
    "        X[:, i] -= X[:, i].mean()\n",
    "        if X[:, i].std() != 0:\n",
    "            X[:, i] /= X[:, i].std()\n",
    "    return X\n",
    "\n",
    "# Slice out one of the digit classes:\n",
    "debug=True\n",
    "test_class = 4\n",
    "X_0 = scale_features(X, debug=True)\n",
    "# print X_0\n",
    "X_0 = X_0[y==test_class, :]\n",
    "y_zeros = y[y==test_class]\n",
    "        \n",
    "\n",
    "def regularized_cost(theta, X, y, debug): return cost(theta, X, y, lambd=0.1, debug=debug)\n",
    "def regularized_grad(theta, X, y, debug): return grad(theta, X, y, lambd=0.1, debug=debug)\n",
    "\n",
    "minimization_result = minimize(\n",
    "    fun=regularized_cost, \n",
    "    x0=initial_theta, \n",
    "    args=(X_0, y_zeros, debug), \n",
    "    jac=regularized_grad,\n",
    "    options={'disp': True}\n",
    ")\n",
    "Theta[test_class, :] = minimization_result.x\n",
    "\n",
    "def train():\n",
    "    scale_features(X)\n",
    "    for klass in range(k):\n",
    "        result = minimize(fun=cost, x0=initial_theta, args=(X[y==klass, :], y[y==klass], False), jac=grad)\n",
    "        if result.success:\n",
    "            Theta[klass, :] = result.x\n",
    "        else:\n",
    "            print \"Failed for %s\" % klass\n",
    "# train()\n",
    "print minimization_result.success\n",
    "print 'done!'\n",
    "# print minimization_result.x"
   ]
  },
  {
   "cell_type": "code",
   "execution_count": 66,
   "metadata": {
    "collapsed": false
   },
   "outputs": [
    {
     "name": "stdout",
     "output_type": "stream",
     "text": [
      "0.999999999999\n"
     ]
    }
   ],
   "source": [
    "a = np.float128(28)\n",
    "print sigmoid(a)"
   ]
  },
  {
   "cell_type": "code",
   "execution_count": 129,
   "metadata": {
    "collapsed": false
   },
   "outputs": [
    {
     "data": {
      "image/png": "[encoded data removed]",
      "text/plain": [
       "<PIL.Image.Image image mode=RGB size=100x100 at 0x111BF61D0>"
      ]
     },
     "metadata": {},
     "output_type": "display_data"
    },
    {
     "data": {
      "image/png": "[encoded data removed]",
      "text/plain": [
       "<PIL.Image.Image image mode=RGB size=100x100 at 0x1111B4110>"
      ]
     },
     "metadata": {},
     "output_type": "display_data"
    },
    {
     "data": {
      "image/png": "[encoded data removed]",
      "text/plain": [
       "<PIL.Image.Image image mode=RGB size=100x100 at 0x1111B4110>"
      ]
     },
     "metadata": {},
     "output_type": "display_data"
    },
    {
     "data": {
      "image/png": "[encoded data removed]",
      "text/plain": [
       "<PIL.Image.Image image mode=RGB size=100x100 at 0x1111B4250>"
      ]
     },
     "metadata": {},
     "output_type": "display_data"
    },
    {
     "data": {
      "image/png": "[encoded data removed]",
      "text/plain": [
       "<PIL.Image.Image image mode=RGB size=100x100 at 0x1111B4090>"
      ]
     },
     "metadata": {},
     "output_type": "display_data"
    },
    {
     "data": {
      "image/png": "[encoded data removed]",
      "text/plain": [
       "<PIL.Image.Image image mode=RGB size=100x100 at 0x1111B4090>"
      ]
     },
     "metadata": {},
     "output_type": "display_data"
    },
    {
     "data": {
      "image/png": "[encoded data removed]",
      "text/plain": [
       "<PIL.Image.Image image mode=RGB size=100x100 at 0x1111B4250>"
      ]
     },
     "metadata": {},
     "output_type": "display_data"
    },
    {
     "data": {
      "image/png": "[encoded data removed]",
      "text/plain": [
       "<PIL.Image.Image image mode=RGB size=100x100 at 0x1111B4250>"
      ]
     },
     "metadata": {},
     "output_type": "display_data"
    },
    {
     "data": {
      "image/png": "[encoded data removed]",
      "text/plain": [
       "<PIL.Image.Image image mode=RGB size=100x100 at 0x109B83D90>"
      ]
     },
     "metadata": {},
     "output_type": "display_data"
    },
    {
     "data": {
      "image/png": "[encoded data removed]",
      "text/plain": [
       "<PIL.Image.Image image mode=RGB size=100x100 at 0x1111B44D0>"
      ]
     },
     "metadata": {},
     "output_type": "display_data"
    }
   ],
   "source": [
    "from PIL import Image\n",
    "from numpy import interp\n",
    "from IPython.display import display\n",
    "\n",
    "for index in range(100, 5000, 500):\n",
    "    img = X[index, 1:]\n",
    "    img = interp(np.float64(img), [-1, 1], [0, 1])\n",
    "    img *= 255\n",
    "    # NOTE: Octave is column-major, Numpy is row-major!\n",
    "    image = Image.fromarray(img.reshape((20, 20)).T).convert('RGB')\n",
    "    image = image.resize((100, 100))\n",
    "    display(image)\n"
   ]
  },
  {
   "cell_type": "raw",
   "metadata": {},
   "source": [
    "print "
   ]
  },
  {
   "cell_type": "code",
   "execution_count": 81,
   "metadata": {
    "collapsed": false
   },
   "outputs": [
    {
     "data": {
      "text/plain": [
       "(400,)"
      ]
     },
     "execution_count": 81,
     "metadata": {},
     "output_type": "execute_result"
    }
   ],
   "source": [
    "img.shape"
   ]
  }
 ],
 "metadata": {
  "kernelspec": {
   "display_name": "Python 2",
   "language": "python",
   "name": "python2"
  },
  "language_info": {
   "codemirror_mode": {
    "name": "ipython",
    "version": 2
   },
   "file_extension": ".py",
   "mimetype": "text/x-python",
   "name": "python",
   "nbconvert_exporter": "python",
   "pygments_lexer": "ipython2",
   "version": "2.7.5"
  }
 },
 "nbformat": 4,
 "nbformat_minor": 0
}
